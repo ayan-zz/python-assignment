{
 "cells": [
  {
   "cell_type": "markdown",
   "id": "96e16875",
   "metadata": {},
   "source": [
    "### INTERVIEW ASSIGNMENT--AYAN CHOWDHURY FSDS2.0\n",
    "\n",
    "##### PYTHON ASSIGNMENT Q1 AND Q2"
   ]
  },
  {
   "cell_type": "markdown",
   "id": "f9c9c21f",
   "metadata": {},
   "source": [
    "#### Question 1: -\n",
    "Write a program that takes a string as input, and counts the frequency of each word in the string, there might\n",
    "be repeated characters in the string. Your task is to find the highest frequency and returns the length of the\n",
    "highest-frequency word.\n",
    "* Note - You have to write at least 2 additional test cases in which your program will run successfully and provide\n",
    "an explanation for the same."
   ]
  },
  {
   "cell_type": "code",
   "execution_count": 1,
   "id": "875b3028",
   "metadata": {},
   "outputs": [
    {
     "name": "stdout",
     "output_type": "stream",
     "text": [
      "Test Case 01: 5\n",
      "Explanation: The word \"hello\" appears twice, which is the highest frequency. The length of \"hello\" is 5.\n",
      "Test Case 02: 3\n",
      "Explanation: The word \"the\" appears five times, which is the highest frequency. The length of \"student\" is 7.\n"
     ]
    }
   ],
   "source": [
    "def frequency(input_string):\n",
    "    words = input_string.split()\n",
    "\n",
    "    word_freq = {}\n",
    "\n",
    "    for word in words:\n",
    "        word_freq[word] = word_freq.get(word, 0) + 1\n",
    "\n",
    "    max_freq = max(word_freq.values())\n",
    "\n",
    "    max_word_length = max(len(word) for word, freq in word_freq.items() if freq == max_freq)\n",
    "\n",
    "    return max_word_length\n",
    "\n",
    "\n",
    "# Test case 1\n",
    "strn1= \"Hello world hello\"\n",
    "print(f'Test Case 01: {frequency(strn1)}')\n",
    "print('Explanation: The word \"hello\" appears twice, which is the highest frequency. The length of \"hello\" is 5.')\n",
    "\n",
    "# Test case 2\n",
    "strn2 = \"I am am am the the the the the student student\"\n",
    "print(f'Test Case 02: {frequency(strn2)}')\n",
    "print('Explanation: The word \"the\" appears five times, which is the highest frequency. The length of \"student\" is 7.')\n"
   ]
  },
  {
   "cell_type": "code",
   "execution_count": 6,
   "id": "ffc4a15f",
   "metadata": {},
   "outputs": [
    {
     "name": "stdout",
     "output_type": "stream",
     "text": [
      "Test Case 01:YES\n",
      "Explanation: Each character appears twice, so the string is valid.\n",
      "Test Case 02:YES\n",
      "Explanation: Each character appears only once, so the string is valid.\n"
     ]
    }
   ],
   "source": [
    "def valid_string(s):\n",
    "    \n",
    "    char_freq = {}\n",
    "    for char in s:\n",
    "        char_freq[char] = char_freq.get(char, 0) + 1\n",
    "\n",
    "    # Count the frequency of frequencies\n",
    "    freq_freq = {}\n",
    "    for freq in char_freq.values():\n",
    "        freq_freq[freq] = freq_freq.get(freq, 0) + 1\n",
    "\n",
    "    # If there is only one frequency or all frequencies are the same, the string is valid\n",
    "    if len(freq_freq) == 1:\n",
    "        return \"YES\"\n",
    "\n",
    "    # If there are more than two frequencies, the string is not valid\n",
    "    if len(freq_freq) > 2:\n",
    "        return \"NO\"\n",
    "\n",
    "    # Check if removing one character can make the string valid\n",
    "    freq_list = list(freq_freq.items())\n",
    "    freq1, count1 = freq_list[0]\n",
    "    freq2, count2 = freq_list[1]\n",
    "\n",
    "    if (freq1 == 1 and count1 == 1) or (freq2 == 1 and count2 == 1):\n",
    "        return \"YES\"\n",
    "    if (freq1 - freq2 == 1 and count1 == 1) or (freq2 - freq1 == 1 and count2 == 1):\n",
    "        return \"YES\"\n",
    "\n",
    "    return \"NO\"\n",
    "\n",
    "# Test case 1\n",
    "strn1 = \"aabbccdde\"\n",
    "print(f'Test Case 01:{valid_string(strn1)}')\n",
    "print('Explanation: Each character appears twice, so the string is valid.')\n",
    "\n",
    "\n",
    "# Test case 2\n",
    "strn2 = \"abcdefgh\"\n",
    "print(f'Test Case 02:{valid_string(strn2)}')\n",
    "print('Explanation: Each character appears only once, so the string is valid.')"
   ]
  },
  {
   "cell_type": "markdown",
   "id": "b5c585f1",
   "metadata": {},
   "source": [
    "#### Question 2: -\n",
    "Consider a string to be valid if all characters of the string appear the same number of times. It is also valid if\n",
    "he can remove just one character at the index in the string, and the remaining characters will occur the same\n",
    "number of times. Given a string, determine if it is valid. If so, return YES , otherwise return NO .\n",
    "\n",
    "* Note - You have to write at least 2 additional test cases in which your program will run successfully and provide\n",
    "an explanation for the same."
   ]
  },
  {
   "cell_type": "code",
   "execution_count": 11,
   "id": "f806ecce",
   "metadata": {},
   "outputs": [
    {
     "name": "stdout",
     "output_type": "stream",
     "text": [
      "YES\n",
      "Explanation: All characters appear once, so the string is valid.\n",
      "YES\n",
      "Explanation: The characters a and b appear twice, and the character c appears once. Removing c makes the string valid.\n"
     ]
    }
   ],
   "source": [
    "def valid_string(s):\n",
    "    \n",
    "    char_freq = {}\n",
    "    for char in s:\n",
    "        char_freq[char] = char_freq.get(char, 0) + 1\n",
    "\n",
    "    freq_freq = {}\n",
    "    for freq in char_freq.values():\n",
    "        freq_freq[freq] = freq_freq.get(freq, 0) + 1\n",
    "\n",
    "    if len(freq_freq) == 1:\n",
    "        return \"YES\"\n",
    "\n",
    "    if len(freq_freq) > 2:\n",
    "        return \"NO\"\n",
    "\n",
    "    freq_list = list(freq_freq.items())\n",
    "    freq1, count1 = freq_list[0]\n",
    "    freq2, count2 = freq_list[1]\n",
    "\n",
    "    if (freq1 == 1 and count1 == 1) or (freq2 == 1 and count2 == 1):\n",
    "        return \"YES\"\n",
    "    if (freq1 - freq2 == 1 and count1 == 1) or (freq2 - freq1 == 1 and count2 == 1):\n",
    "        return \"YES\"\n",
    "\n",
    "    return \"NO\"\n",
    "\n",
    "\n",
    "# Test case 1\n",
    "s1 = \"abcde\"\n",
    "print(valid_string(s1))\n",
    "print('Explanation: All characters appear once, so the string is valid.')\n",
    "\n",
    "\n",
    "# Test case 2\n",
    "s2 = \"aabbc\"\n",
    "print(valid_string(s2))\n",
    "print('Explanation: The characters a and b appear twice, and the character c appears once. Removing c makes the string valid.')\n"
   ]
  },
  {
   "cell_type": "code",
   "execution_count": null,
   "id": "f26442ea",
   "metadata": {},
   "outputs": [],
   "source": []
  }
 ],
 "metadata": {
  "kernelspec": {
   "display_name": "Python 3 (ipykernel)",
   "language": "python",
   "name": "python3"
  },
  "language_info": {
   "codemirror_mode": {
    "name": "ipython",
    "version": 3
   },
   "file_extension": ".py",
   "mimetype": "text/x-python",
   "name": "python",
   "nbconvert_exporter": "python",
   "pygments_lexer": "ipython3",
   "version": "3.9.13"
  }
 },
 "nbformat": 4,
 "nbformat_minor": 5
}
